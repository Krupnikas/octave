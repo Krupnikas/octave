{
 "cells": [
  {
   "cell_type": "code",
   "execution_count": 1,
   "metadata": {},
   "outputs": [],
   "source": [
    "import binascii\n",
    "\n",
    "def str_to_hex(string):\n",
    "    hex_string = binascii.hexlify(bytearray(string, 'utf-8')).decode(\"utf-8\") \n",
    "    return hex_string\n",
    "\n",
    "def hex_to_str(hex_string):\n",
    "    result = \"\"\n",
    "    for i in range(0, len(hex_string) - 2, 2):\n",
    "        try:\n",
    "            result += binascii.unhexlify(hex_string[i:i + 2].encode(\"utf-8\")).decode(\"utf-8\")\n",
    "        except:\n",
    "            pass\n",
    "    return result\n",
    "\n",
    "def str_to_array(string):\n",
    "    hex_string = str_to_hex(string)\n",
    "    array = [int(symbol, 16) for symbol in hex_string]\n",
    "    return array\n",
    "    "
   ]
  },
  {
   "cell_type": "code",
   "execution_count": 2,
   "metadata": {},
   "outputs": [],
   "source": [
    "from math import sin, pi\n",
    "\n",
    "def window(index, length):\n",
    "    return sin((pi * index) / (length))\n",
    "\n",
    "def get_segment(freq, length = 44100 // 10, ampl = 1, samplerate = 44100, phase = 0) :\n",
    "    segment = []\n",
    "    for index in range(length):\n",
    "        sample = ampl \n",
    "        sample *= sin(phase + 2 * pi * freq * index / samplerate)\n",
    "        sample *= window(index, length)\n",
    "        segment.append(sample)\n",
    "    return segment"
   ]
  },
  {
   "cell_type": "code",
   "execution_count": 3,
   "metadata": {},
   "outputs": [],
   "source": [
    "def get_symbol_freq(symbol):\n",
    "    tones = [261.63, 293.66, 329.63, 349.23, 392.00, 440.00, 493.88]\n",
    "    octave = symbol // len(tones)\n",
    "    tone = symbol % len(tones)\n",
    "    freq = (2 ** octave) * tones[tone]\n",
    "    return freq"
   ]
  },
  {
   "cell_type": "code",
   "execution_count": 4,
   "metadata": {},
   "outputs": [],
   "source": [
    "def modulate(array):\n",
    "    signal = []\n",
    "    for symbol in array:\n",
    "        freq = get_symbol_freq(symbol)\n",
    "        segment = get_segment(freq)\n",
    "        signal += segment\n",
    "    return signal"
   ]
  },
  {
   "cell_type": "code",
   "execution_count": 5,
   "metadata": {},
   "outputs": [],
   "source": [
    "import sounddevice \n",
    "import numpy as np\n",
    "\n",
    "import matplotlib.pyplot as plt\n",
    "\n",
    "def transmit(data, save = False):\n",
    "    if isinstance(data, str):\n",
    "        array = str_to_array(data)\n",
    "        signal = modulate(array)\n",
    "        signal += [0] * 3000\n",
    "    else:\n",
    "        array = data\n",
    "        signal = modulate(array)\n",
    "    \n",
    "    plt.figure(figsize=(20,10))\n",
    "    plt.plot(signal)\n",
    "    sound = np.float32(signal)\n",
    "#     sound = sound / max(sound)\n",
    "#     sound += np.zeros(1000)\n",
    "    sounddevice.play(sound, 44100)\n",
    "    sounddevice.wait()\n",
    "    if save:\n",
    "        wavio.write(f\"sounds/{data}.wav\", sound, 44100, sampwidth=2)\n",
    "    return sound"
   ]
  },
  {
   "cell_type": "code",
   "execution_count": 6,
   "metadata": {},
   "outputs": [],
   "source": [
    "def findSymbol(blob):\n",
    "    freqs = {'0': 261.63,\n",
    "             '1': 293.66,\n",
    "             '2': 329.63,\n",
    "             '3': 349.23,\n",
    "             '4': 392.0,\n",
    "             '5': 440.0,\n",
    "             '6': 493.88,\n",
    "             '7': 523.26,\n",
    "             '8': 587.32,\n",
    "             '9': 659.26,\n",
    "             'a': 698.46,\n",
    "             'b': 784.0,\n",
    "             'c': 880.0,\n",
    "             'd': 987.75,\n",
    "             'e': 1046.50,\n",
    "             'f': 1174.60}\n",
    "    \n",
    "    ampls = {}\n",
    "    total = 0\n",
    "    for symbol in freqs:\n",
    "        segment = get_segment(freqs[symbol])\n",
    "        i = np.multiply(blob, np.array(segment))\n",
    "        q = np.multiply(blob, np.array(segment, phase = pi / 2))\n",
    "        ampl = np.abs(np.sum(i))\n",
    "        total += ampl\n",
    "        ampls[symbol] = ampl\n",
    "        \n",
    "    maxAmpl = max(ampls.values())\n",
    "    mean = (total - maxAmpl) / 15;\n",
    "    \n",
    "    print(round(maxAmpl / mean, 2))\n",
    "    \n",
    "    if (maxAmpl > mean * 10):\n",
    "        return max(ampls, key=ampls.get)\n",
    "    \n",
    "    return \"\""
   ]
  },
  {
   "cell_type": "code",
   "execution_count": 7,
   "metadata": {},
   "outputs": [
    {
     "name": "stdout",
     "output_type": "stream",
     "text": [
      "33.98\n"
     ]
    },
    {
     "data": {
      "text/plain": [
       "'6'"
      ]
     },
     "execution_count": 7,
     "metadata": {},
     "output_type": "execute_result"
    }
   ],
   "source": [
    "findSymbol(get_segment(460))"
   ]
  },
  {
   "cell_type": "code",
   "execution_count": 8,
   "metadata": {},
   "outputs": [],
   "source": [
    "import pyaudio\n",
    "import wave\n",
    "\n",
    "def startReceiving():\n",
    "    fmt = pyaudio.paInt16 # 16-bit resolution\n",
    "    chans = 1 # 1 channel\n",
    "    samplerate = 44100 # 44.1kHz sampling rate\n",
    "    symbolsPerSecond = 10 \n",
    "    symbolLength = samplerate // symbolsPerSecond\n",
    "    chunk = 4096 * 2 #samplerate // symbolsPerSecond # 2^12 samples for buffer\n",
    "    dev_index = 0 # device index found by p.get_device_info_by_index(ii)\n",
    "    record_secs = 5\n",
    "\n",
    "    audio = pyaudio.PyAudio() # create pyaudio instantiation\n",
    "    print(audio.get_device_info_by_index(0))\n",
    "\n",
    "    stream = audio.open(format = fmt, \\\n",
    "                        rate = samplerate, \\\n",
    "                        channels = chans, \\\n",
    "                        input_device_index = dev_index, \\\n",
    "                        input = True, \\\n",
    "                        frames_per_buffer=chunk)\n",
    "    \n",
    "    try:\n",
    "        print(\"Receiving...\")\n",
    "        samples = np.array([])\n",
    "        result = \"\"\n",
    "\n",
    "        # loop through stream and append audio chunks to frame array\n",
    "        for ii in range(0, int((samplerate/chunk) * record_secs)):\n",
    "            data = stream.read(chunk, exception_on_overflow = True)\n",
    "            numpydata = np.frombuffer(data, dtype=np.int16)\n",
    "            samples = np.append(samples, numpydata)\n",
    "            while (len(samples) > symbolLength):\n",
    "                result += findSymbol(samples[:symbolLength])\n",
    "                samples = samples[symbolLength:]\n",
    "\n",
    "        print(result)\n",
    "        print(hex_to_str(result[:round(len(result))]))\n",
    "        print(hex_to_str(result[1:round(len(result))-1]))\n",
    "    finally:\n",
    "        # stop the stream, close it, and terminate the pyaudio instantiation\n",
    "        stream.stop_stream()\n",
    "        stream.close()\n",
    "        audio.terminate()"
   ]
  },
  {
   "cell_type": "code",
   "execution_count": 11,
   "metadata": {},
   "outputs": [
    {
     "name": "stdout",
     "output_type": "stream",
     "text": [
      "{'index': 0, 'structVersion': 2, 'name': 'HDA Intel PCH: ALC257 Analog (hw:0,0)', 'hostApi': 0, 'maxInputChannels': 2, 'maxOutputChannels': 2, 'defaultLowInputLatency': 0.005804988662131519, 'defaultLowOutputLatency': 0.005804988662131519, 'defaultHighInputLatency': 0.034829931972789115, 'defaultHighOutputLatency': 0.034829931972789115, 'defaultSampleRate': 44100.0}\n",
      "Receiving...\n",
      "3.17\n",
      "4.82\n",
      "7.42\n",
      "4.29\n",
      "15.78\n",
      "4.44\n",
      "9.45\n",
      "7.96\n",
      "8.43\n",
      "18.42\n",
      "6.85\n",
      "4.51\n",
      "4.63\n",
      "54.08\n",
      "271.6\n",
      "83.43\n",
      "42.47\n",
      "35.51\n",
      "18.62\n",
      "261.32\n",
      "170.8\n",
      "128.01\n",
      "41.78\n",
      "193.64\n",
      "32.36\n",
      "158.96\n",
      "144.2\n",
      "244.71\n",
      "29.98\n",
      "5.16\n",
      "5.01\n",
      "3.69\n",
      "11.99\n",
      "3.4\n",
      "6.0\n",
      "8.75\n",
      "12.15\n",
      "6.14\n",
      "13.86\n",
      "14.48\n",
      "7.75\n",
      "4.3\n",
      "4.49\n",
      "15.62\n",
      "3.68\n",
      "3.41\n",
      "9.03\n",
      "2.73\n",
      "50497420776f726b7300000\n",
      "PIt works\u0000\u0000\n",
      "\u0004B\u0007v&0\u0000\n"
     ]
    }
   ],
   "source": [
    "startReceiving()"
   ]
  },
  {
   "cell_type": "code",
   "execution_count": 10,
   "metadata": {},
   "outputs": [
    {
     "data": {
      "text/plain": [
       "'Eeeeeeeeeee'"
      ]
     },
     "execution_count": 10,
     "metadata": {},
     "output_type": "execute_result"
    }
   ],
   "source": [
    "hex_to_str(\"45656565656565656565655\")"
   ]
  },
  {
   "cell_type": "code",
   "execution_count": null,
   "metadata": {},
   "outputs": [],
   "source": []
  },
  {
   "cell_type": "code",
   "execution_count": null,
   "metadata": {},
   "outputs": [],
   "source": []
  }
 ],
 "metadata": {
  "kernelspec": {
   "display_name": "Python 3",
   "language": "python",
   "name": "python3"
  },
  "language_info": {
   "codemirror_mode": {
    "name": "ipython",
    "version": 3
   },
   "file_extension": ".py",
   "mimetype": "text/x-python",
   "name": "python",
   "nbconvert_exporter": "python",
   "pygments_lexer": "ipython3",
   "version": "3.7.4"
  }
 },
 "nbformat": 4,
 "nbformat_minor": 2
}
